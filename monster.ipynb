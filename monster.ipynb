{
 "cells": [
  {
   "cell_type": "code",
   "execution_count": null,
   "id": "fd102cb9-7f4c-4bf4-9f5e-6689ac1145b2",
   "metadata": {
    "tags": []
   },
   "outputs": [],
   "source": [
    "import numpy as np\n",
    "import matplotlib.pyplot as plt\n",
    "from gprm import ReconstructionModel\n",
    "import pygmt\n",
    "import geopandas as gpd\n",
    "import sys\n",
    "sys.path.append('/Users/simon/GIT/degenerative_art/')\n",
    "import map_effects as me\n",
    "sys.path.append('/Users/simon/GIT/agegrid-0.1/')\n",
    "from run_paleo_age_grids import run_paleo_age_grids\n",
    "import xarray as xr\n",
    "from xrspatial import proximity\n",
    "import gprm.utils.paleogeography as pg\n",
    "import pygplates\n",
    "\n",
    "\n",
    "from octopus import generate_seafloor_bathymetry, generate_land_topography, merge_topography_and_bathymetry\n",
    "from octopus import add_seamount_trails, generate_seafloor_fabric\n",
    "from octopus import generate_slab_earthquakes, generate_magnetic_map\n",
    "from octopus import smooth_seafloor\n",
    "from octopus import make_noise_grid\n",
    "\n",
    "\n",
    "%load_ext autoreload\n",
    "%autoreload 2\n"
   ]
  },
  {
   "cell_type": "code",
   "execution_count": null,
   "id": "298d94ea-2d5f-4e4e-8e51-702c1e0f9560",
   "metadata": {
    "tags": []
   },
   "outputs": [],
   "source": [
    "Atlantis = ReconstructionModel()\n",
    "\n",
    "Atlantis.add_continent_polygons('/Users/simon/Documents/2022IMAS-OUC_SOMG/PracFiles/Atlantis2/Atlantis2_continents.gpml')\n",
    "Atlantis.add_dynamic_polygons('/Users/simon/Documents/2022IMAS-OUC_SOMG/PracFiles/Atlantis2/Atlantis2_topologies.gpml')\n",
    "Atlantis.add_dynamic_polygons('/Users/simon/Documents/2022IMAS-OUC_SOMG/PracFiles/Atlantis2/Atlantis2_geometries.gpml')\n",
    "Atlantis.add_rotation_model('/Users/simon/Documents/2022IMAS-OUC_SOMG/PracFiles/Atlantis2/Atlantis2_rotations_rel.rot')\n",
    "\n",
    "seafloor_age_file = './Atlantis2/masked/Atlantis2_seafloor_age_mask_0.0Ma.nc'\n",
    "final_grd_sampling = 0.25\n"
   ]
  },
  {
   "cell_type": "code",
   "execution_count": null,
   "id": "62a2a642-3e14-425e-9fdc-184fde291328",
   "metadata": {
    "scrolled": true,
    "tags": []
   },
   "outputs": [],
   "source": [
    "### 1 run paleoagegrid\n",
    "\n",
    "#run_paleo_age_grids('/Users/simon/GIT/agegrid-0.1/config_files/config_Atlantis.yaml')\n",
    "\n",
    "seafloor_age = pygmt.grdsample(seafloor_age_file,\n",
    "                               region='d', spacing=final_grd_sampling)\n",
    "\n",
    "seafloor_depth = generate_seafloor_bathymetry(seafloor_age, \n",
    "                                              final_grd_sampling)\n",
    "\n",
    "seafloor_depth.plot()\n"
   ]
  },
  {
   "cell_type": "code",
   "execution_count": null,
   "id": "82d38a1a-beb0-4a9c-aba3-47d5f987e885",
   "metadata": {
    "tags": []
   },
   "outputs": [],
   "source": [
    "### 2 run make mountain ranges\n",
    "\n",
    "reconstruction_model = Atlantis\n",
    "reconstruction_time = 0.\n",
    "min_distance_to_coastlines=0\n",
    "max_distance_to_trenches=1200000\n",
    "sampling = final_grd_sampling\n",
    "\n",
    "#orogeny_core.plot()\n",
    "\n",
    "\n",
    "(land, \n",
    " mountain_core, \n",
    " orogeny_core, \n",
    " topography) = generate_land_topography(\n",
    "    reconstruction_model, reconstruction_time,\n",
    "    final_grd_sampling, min_distance_to_coastlines=0, max_distance_to_trenches=1200000,\n",
    "    orogeny_geometries='/Users/simon/Documents/2022IMAS-OUC_SOMG/PracFiles/Atlantis2/Atlantis2_OrogenicBelts.gpml')\n",
    "\n",
    "#land.plot()\n",
    "#mountain_core.plot()\n",
    "topography.plot()\n"
   ]
  },
  {
   "cell_type": "code",
   "execution_count": null,
   "id": "51b6ad28-406d-442a-baf0-49f2c24bfdb3",
   "metadata": {
    "tags": []
   },
   "outputs": [],
   "source": [
    "from gprm.utils.proximity import polyline_proximity\n",
    "\n",
    "prox_sz = polyline_proximity(Atlantis.plate_snapshot(0.).get_boundary_features(boundary_types=['subduction']),\n",
    "                             spacing=final_grd_sampling)\n",
    "\n",
    "\n",
    "topography_noise = make_noise_grid(lmin=10, lmax=50, exponent=-1.5, scaling=1., spacing='{:f}d'.format(final_grd_sampling))\n",
    "topography.data = topography.data * np.abs(topography_noise)\n",
    "\n",
    "merge = merge_topography_and_bathymetry(seafloor_depth, topography, \n",
    "                                        prox_sz)\n",
    "\n",
    "merge.plot(cmap='viridis', vmin=-6000, vmax=4000.)\n",
    "\n"
   ]
  },
  {
   "cell_type": "code",
   "execution_count": null,
   "id": "85612b2b-fce7-4ab4-a4f6-ecb8e82c831a",
   "metadata": {
    "tags": []
   },
   "outputs": [],
   "source": [
    "seafloor_fabric = generate_seafloor_fabric(seafloor_age, final_grd_sampling, target_range=1000)\n",
    "\n",
    "#filt_grid = filt_grid+make_noise_grid(scaling=2.)\n",
    "\n",
    "#fig,ax = plt.subplots(figsize=(20,10))\n",
    "#filt_grid.plot(vmin=-2,vmax=2, ax=ax)\n",
    "\n",
    "seafloor_fabric = seafloor_fabric.where(np.isfinite(seafloor_fabric), 0)\n",
    "\n",
    "#seafloor_fabric.plot()\n",
    "#print(seafloor_fabric.min(), seafloor_fabric.max())\n",
    "\n",
    "\n",
    "seafloor_fabric = smooth_seafloor(seafloor_age, seafloor_fabric, \n",
    "                                  scaling=0.08, vary_kernel_size=True, target_range=10000)\n",
    "\n",
    "seafloor_fabric.plot(vmin=-1000, vmax=1000)\n",
    "plt.show()\n",
    "#'''\n",
    "mergef = merge + seafloor_fabric\n",
    "mergef.plot(vmin=-6000, vmax=4000)\n",
    "plt.show()\n",
    "\n",
    "plt.plot(mergef.data[290,:])\n",
    "#'''\n",
    "#plt.plot(seafloor_fabric.data[180,:])\n"
   ]
  },
  {
   "cell_type": "code",
   "execution_count": null,
   "id": "16877736-84c5-4275-b64e-d2599362ba34",
   "metadata": {
    "tags": []
   },
   "outputs": [],
   "source": [
    "hot_spot_points = {\n",
    "    'A':(10,-10), \n",
    "    'B':(-20,20), \n",
    "    'C':(10,40)\n",
    "}\n",
    "\n",
    "(merge_f_smt,\n",
    " hot_spot_trails) = add_seamount_trails(Atlantis, \n",
    "                                        mergef, \n",
    "                                        hot_spot_points, \n",
    "                                        final_grd_sampling, \n",
    "                                        filter_length_km=700)\n",
    "\n",
    "merge_f_smt.plot(cmap='viridis', vmin=-8000, vmax=4000)\n"
   ]
  },
  {
   "cell_type": "code",
   "execution_count": null,
   "id": "1b91a944-5949-4a46-9672-aa70a866c7c3",
   "metadata": {
    "tags": []
   },
   "outputs": [],
   "source": [
    "### Synthetic drill holes?\n",
    "\n",
    "\n",
    "### Present-day GPS velocity\n"
   ]
  },
  {
   "cell_type": "code",
   "execution_count": null,
   "id": "5fed32b1-c91a-4d16-8f80-f6f3004b818c",
   "metadata": {
    "tags": []
   },
   "outputs": [],
   "source": [
    "tmi_grid_sampling = 0.5\n",
    "tmi = generate_magnetic_map(Atlantis, \n",
    "                            pygmt.grdsample(seafloor_age_file,\n",
    "                                            region='d', spacing=tmi_grid_sampling), \n",
    "                            tmi_grid_sampling)\n",
    "\n",
    "\n",
    "fig,ax = plt.subplots(figsize=(12,6))\n",
    "tmi.plot(cmap='seismic', ax=ax, vmin=-200, vmax=200)\n",
    "plt.show()\n"
   ]
  },
  {
   "cell_type": "code",
   "execution_count": null,
   "id": "4f47d922-5032-4ec8-b5e8-62549196c20e",
   "metadata": {
    "tags": []
   },
   "outputs": [],
   "source": [
    "slab_earthquakes = generate_slab_earthquakes(Atlantis)\n",
    "\n",
    "fig = plt.figure(figsize=(12,6))\n",
    "ax = fig.add_subplot(111)\n",
    "cm = ax.scatter(slab_earthquakes.geometry.x, \n",
    "                slab_earthquakes.geometry.y, \n",
    "                c=slab_earthquakes.depth, \n",
    "                s=50,\n",
    "                cmap='magma_r', vmin=0., vmax=450)\n",
    "ax.set_aspect('equal')\n",
    "fig.colorbar(cm)\n",
    "fig.show()\n",
    "\n"
   ]
  },
  {
   "cell_type": "code",
   "execution_count": null,
   "id": "87f75952-1b6a-4c8f-bfa3-6cecc76a62bb",
   "metadata": {
    "tags": []
   },
   "outputs": [],
   "source": [
    "merge_f_smt.to_netcdf('./Atlantis2_Database/topography_bathymetry.nc')\n",
    "tmi.to_netcdf('./Atlantis2_Database/total_magnetic_intensity.nc')\n",
    "\n",
    "slab_earthquakes.to_file('./Atlantis2_Database/Earthquakes.geojson')\n",
    "\n"
   ]
  },
  {
   "cell_type": "code",
   "execution_count": null,
   "id": "6bec45f3-0b10-45b0-a12d-0b1955f77d2e",
   "metadata": {
    "tags": []
   },
   "outputs": [],
   "source": [
    "from octopus import generate_plate_boundary_earthquakes\n",
    "\n",
    "plate_boundary_earthquakes = generate_plate_boundary_earthquakes(Atlantis, int(2e4))\n",
    "\n",
    "plate_boundary_earthquakes.to_file('./Atlantis2_Database/PlateBoundary_Earthquakes.geojson')\n",
    "\n"
   ]
  },
  {
   "cell_type": "code",
   "execution_count": null,
   "id": "38063321-9815-4bda-8577-efe321efaae8",
   "metadata": {
    "tags": []
   },
   "outputs": [],
   "source": [
    "\n",
    "ns = make_noise_grid(lmin=10, lmax=80, exponent=-1.5, scaling=1., spacing='0.25d')\n",
    "\n",
    "ns2 = make_noise_grid(lmin=3, lmax=30, exponent=-3, scaling=0.5, spacing='0.25d')\n",
    "\n",
    "#tmp = topography + ns\n",
    "#tmp.plot()\n",
    "#ns.plot()\n",
    "\n",
    "ns = ns+1\n",
    "ns2 = ns2+1\n",
    "\n",
    "tmp = topography.copy()\n",
    "tmp.data = tmp.data * np.abs(ns.data)\n",
    "tmp.data = tmp.data * np.abs(ns2.data)\n",
    "\n",
    "tmp.plot(vmax=6000)\n"
   ]
  },
  {
   "cell_type": "code",
   "execution_count": null,
   "id": "05a3c813-3de5-40dc-8c14-a19648eedb47",
   "metadata": {
    "tags": []
   },
   "outputs": [],
   "source": [
    "#ns2 = make_noise_grid(lmin=4, lmax=30, exponent=-3, scaling=0.4, spacing='0.25d')\n",
    "ns2.plot()\n"
   ]
  },
  {
   "cell_type": "code",
   "execution_count": null,
   "id": "2b1759c0-e125-4ef0-927c-2faad488cd38",
   "metadata": {
    "tags": []
   },
   "outputs": [],
   "source": [
    "from gprm.utils.create_gpml import gpml2gdf\n",
    "from octopus import unreconstruct_geodataframe, generate_climate_sensitive_deposits, generate_weighted_random_points\n",
    "\n",
    "continent_polygons = gpml2gdf(reconstruction_model.continent_polygons[0])\n",
    "\n",
    "fig,ax = plt.subplots()\n",
    "\n",
    "evaporites = []\n",
    "glacial_deposits = []\n",
    "arc_volcanism = []\n",
    "\n",
    "for reconstruction_time in np.arange(200,-1,-1):\n",
    "    \n",
    "    print(reconstruction_time)\n",
    "    #mountain_core, land = get_paleogeography_rasters(reconstruction_model, reconstruction_time)\n",
    "    (land, \n",
    "     mountain_core, \n",
    "     orogeny_core, \n",
    "     topography) = generate_land_topography(\n",
    "        reconstruction_model, reconstruction_time,\n",
    "        final_grd_sampling, min_distance_to_coastlines=0, max_distance_to_trenches=1200000,\n",
    "        orogeny_geometries='/Users/simon/Documents/2022IMAS-OUC_SOMG/PracFiles/Atlantis2/Atlantis2_OrogenicBelts.gpml')\n",
    "\n",
    "    reconstructed_polygons = reconstruction_model.reconstruct(continent_polygons, \n",
    "                                                              reconstruction_time)\n",
    "\n",
    "    # Evaporites\n",
    "    gdf = generate_climate_sensitive_deposits(land, central_lat=20, lat_std=5, n_points=50)\n",
    "    ur_gdf = unreconstruct_geodataframe(gdf, reconstruction_model, reconstructed_polygons, reconstruction_time)\n",
    "    ur_gdf.plot(ax=ax, color='orange', markersize=2)\n",
    "    evaporites.append(ur_gdf)\n",
    "    \n",
    "    # Glacial Deposits\n",
    "    gdf = generate_climate_sensitive_deposits(land, central_lat=90, lat_std=15, n_points=100)\n",
    "    ur_gdf = unreconstruct_geodataframe(gdf, reconstruction_model, reconstructed_polygons, reconstruction_time)\n",
    "    if ur_gdf is not None:\n",
    "        ur_gdf.plot(ax=ax, color='blue', markersize=5)\n",
    "        glacial_deposits.append(ur_gdf)\n",
    "    \n",
    "    # Volcanos\n",
    "    volcano_points = generate_weighted_random_points(mountain_core, n_points=20)\n",
    "    ur_gdf = unreconstruct_geodataframe(volcano_points, reconstruction_model, reconstructed_polygons, reconstruction_time)\n",
    "    ur_gdf.plot(ax=ax, color='darkred', markersize=2)\n",
    "    arc_volcanism.append(ur_gdf)\n",
    "\n",
    "    #break\n",
    "\n",
    "plt.axis([-180,180,-90,90])\n",
    "plt.show()\n"
   ]
  },
  {
   "cell_type": "code",
   "execution_count": null,
   "id": "13949c11-afea-45ce-89d8-a8607564cdc9",
   "metadata": {
    "tags": []
   },
   "outputs": [],
   "source": [
    "evaporite_dataframe = gpd.GeoDataFrame(gpd.pd.concat(evaporites).reset_index())\n",
    "glacial_deposits_dataframe = gpd.GeoDataFrame(gpd.pd.concat(glacial_deposits).reset_index())\n",
    "arc_volcanism_dataframe = gpd.GeoDataFrame(gpd.pd.concat(arc_volcanism).reset_index())\n",
    "\n"
   ]
  },
  {
   "cell_type": "code",
   "execution_count": null,
   "id": "ace6fc05-6e60-4aeb-a203-3fe25aff4fbe",
   "metadata": {
    "tags": []
   },
   "outputs": [],
   "source": [
    "glacial_deposits_dataframe.sample(200).plot()\n",
    "evaporite_dataframe.sample(200).plot()\n",
    "arc_volcanism_dataframe.sample(200).plot()\n"
   ]
  },
  {
   "cell_type": "code",
   "execution_count": null,
   "id": "c7587fc0-201c-45af-abe1-6a0b565e8171",
   "metadata": {},
   "outputs": [],
   "source": []
  }
 ],
 "metadata": {
  "kernelspec": {
   "display_name": "Python [conda env:pygmt10]",
   "language": "python",
   "name": "conda-env-pygmt10-py"
  },
  "language_info": {
   "codemirror_mode": {
    "name": "ipython",
    "version": 3
   },
   "file_extension": ".py",
   "mimetype": "text/x-python",
   "name": "python",
   "nbconvert_exporter": "python",
   "pygments_lexer": "ipython3",
   "version": "3.10.13"
  }
 },
 "nbformat": 4,
 "nbformat_minor": 5
}
